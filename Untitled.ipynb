{
 "cells": [
  {
   "cell_type": "code",
   "execution_count": 1,
   "metadata": {},
   "outputs": [],
   "source": [
    "import numpy as np\n",
    "import matplotlib.pyplot as plt\n",
    "import pystan\n",
    "from scipy import signal\n",
    "import pandas as pd"
   ]
  },
  {
   "cell_type": "code",
   "execution_count": 2,
   "metadata": {},
   "outputs": [],
   "source": [
    "stan_code_pred = '''\n",
    "functions {                 \n",
    "     vector[] sample(real  t,     // time\n",
    "              vector x,     // state\n",
    "              real[] theta, // parameters\n",
    "              real MCR_I,   \n",
    "              vector CHO,\n",
    "              vector U_I,\n",
    "              vector x1,\n",
    "              vector x2,\n",
    "              vector a1,\n",
    "              vector a2,\n",
    "              vector G_t,\n",
    "              real W,\n",
    "              real V_G) { \n",
    "   \n",
    "    /*\n",
    "    guide to theta:\n",
    "    theta[1]:  t_Max_IA\n",
    "    theta[2]:  t_Max_G   \n",
    "    theta[3]:  A_G        \n",
    "    theta[4]:  S_I       \n",
    "    theta[5]:  X_b       \n",
    "    theta[6]:  K          \n",
    "    theta[7]:  G_b       \n",
    "    */\n",
    "\n",
    "    \n",
    "    real t_Max_IA = fmax(0.0, theta[1]); // this ensures that our parameters never go negative\n",
    "    real t_Max_G  = fmax(0.0, theta[2]); \n",
    "    real A_G      = fmax(0.0, theta[3]);\n",
    "    real S_I      = fmax(0.0, theta[4]);\n",
    "    real X_b      = fmax(0.0, theta[5]);\n",
    "    real K        = fmax(0.0, theta[6]);\n",
    "    real G_b      = fmax(0.0, theta[7]);\n",
    "\n",
    "    vector[1] dx1_dt = ((-1/t_Max_IA)*x1) + U_I/60;\n",
    "    vector[1] dx2_dt = (1/t_Max_IA)*(x1-x2);\n",
    "    \n",
    "    vector[1] X_t = 1000*x2/t_Max_IA*MCR_I*W;\n",
    "    \n",
    "    \n",
    "    vector[1] da1_dt = ((-1/t_Max_G)*a1) + CHO;\n",
    "    vector[1] da2_dt = (1/t_Max_G)*(a1-a2);\n",
    "    \n",
    "    vector[1] U_M = 5.556*A_G*a2/t_Max_G*V_G*W;\n",
    "    \n",
    "    vector[1] dG_t_dt = (-S_I*(X_t-X_b))+U_M-(K*(G_t-G_b));\n",
    "    \n",
    "    \n",
    "    return {dx1_dt, \n",
    "            dx2_dt, \n",
    "            da1_dt, \n",
    "            da2_dt, \n",
    "            dG_t_dt};    \n",
    "  }\n",
    "}\n",
    "data {\n",
    "    int<lower=0> nobs;               // number of timesteps with observations\n",
    "    real tobs[nobs];                 // obs times\n",
    "    int<lower=0> nobsvar;            // number of observed variables\n",
    "    int<lower=0> iobsvar[nobsvar];   // index of observed variable (dx1_dt=0, dx2_dt=1, da1_dt=2, da2_dt=3, dG_t_dt=4)\n",
    "    real<lower=0> obs[nobs,5];       // observed variable at measurement times\n",
    "    int<lower=0> npred;              // number of points where we want predictions\n",
    "    real tpred[npred];               // time points where we want predictions\n",
    "    real U_I[npred];                 // insulin infusion rate at the time points [U/h]\n",
    "    real MCR_I;                      // metabolic clearance rate of effective insulin [L/kg/min]\n",
    "    real W;                          // weight of patient in kilograms [kg]\n",
    "    real CHO[npred];                 // number of carbohydrates consumed at time points [g]\n",
    "    real V_G;                        // plasma pool glucose size [L/kg]\n",
    "    vector<lower=0>[1] x1;\n",
    "    vector<lower=0>[1] x2;\n",
    "    vector<lower=0>[1] a1;\n",
    "    vector<lower=0>[1] a2;\n",
    "    vector<lower=0>[1] G_t;\n",
    "    vector<lower=0>[1] X_t;\n",
    "    vector<lower=0>[1] U_M;\n",
    "}\n",
    "\n",
    "parameters {\n",
    "    real<lower=0> t_Max_IA;\n",
    "    real<lower=0> t_Max_G;\n",
    "    real<lower=0> A_G;\n",
    "    real<lower=0> S_I;\n",
    "    real<lower=0> X_b;\n",
    "    real<lower=0> K;\n",
    "    real<lower=0> G_b;\n",
    "    real<lower=0> x0[5];            // initial conditions\n",
    "    real<lower=0> sigma[nobsvar];   // observation error (one for each observed variable)\n",
    "}\n",
    "transformed parameters {\n",
    "    { \n",
    "        real theta[7] = {t_Max_IA, t_Max_G, A_G, S_I, X_b, K, G_b};\n",
    "        vector[5] x = ode_bdf(sample, x0, 0, tobs, theta, rep_array(0.0, 0), rep_array(0, 0), 1e-6, 1e-5, 1e3);\n",
    "    }\n",
    "}\n",
    "model {\n",
    "    t_Max_IA ~ normal(78, 169);    // prior on vmax\n",
    "    t_Max_G  ~ uniform(48, 100);   // prior on nuthalfsat\n",
    "    A_G      ~ normal(0.84, 0.0256);  // prior on graz\n",
    "    S_I      ~ normal(0.0050, 0.00000121);  // prior on mort_p\n",
    "    X_b      ~ normal(12.9, 9.61);  // prior on mort_z\n",
    "    K        ~ uniform(0.0039, 0.00000025);   // prior on irr\n",
    "    G_b      ~ normal(6.6,0.49);   // prior on proportionality\n",
    "    x0[1:5]  ~ normal(0.1, 1.0);    // prior on all five initial conditions\n",
    "    for (iobs in 1:nobs){\n",
    "        obs[iobs,iobsvar] ~ normal(x[iobs,iobsvar], sigma);   // likelihood of the observations\n",
    "    }\n",
    "}\n",
    "generated quantities{\n",
    "    real x_pred[npred,5];\n",
    "    {real theta[7] = {t_Max_IA, t_Max_G, A_G, S_I, X_b, K, G_b};\n",
    "    x_pred = ode_bdf(n,x0,0,tpred,theta,rep_array(0.0,0),rep_array(0,0),1e-6,1e-6,1e6));\n",
    "    }\n",
    "}\n",
    "'''"
   ]
  },
  {
   "cell_type": "code",
   "execution_count": 3,
   "metadata": {},
   "outputs": [],
   "source": [
    "iobsvar = np.array([0, 1, 2, 3, 4])"
   ]
  },
  {
   "cell_type": "code",
   "execution_count": 4,
   "metadata": {},
   "outputs": [],
   "source": [
    "tpred = np.linspace(0, 24*60, 24*12)"
   ]
  },
  {
   "cell_type": "code",
   "execution_count": 5,
   "metadata": {},
   "outputs": [],
   "source": [
    "npred = len(tpred)"
   ]
  },
  {
   "cell_type": "code",
   "execution_count": 6,
   "metadata": {
    "scrolled": true
   },
   "outputs": [],
   "source": [
    "data1 = pd.read_csv('C:/Users/18326/Documents/Data.csv', names=['tobs', 'x1', 'x2','a1', 'a2', 'G_t', 'U_I', 'CHO', 'nobs', 'nobavar', 'MCR_I', 'W', 'V_G'])"
   ]
  },
  {
   "cell_type": "code",
   "execution_count": 7,
   "metadata": {},
   "outputs": [],
   "source": [
    "X= data1.columns"
   ]
  },
  {
   "cell_type": "code",
   "execution_count": 8,
   "metadata": {},
   "outputs": [],
   "source": [
    "Y = data1.index"
   ]
  },
  {
   "cell_type": "code",
   "execution_count": 9,
   "metadata": {},
   "outputs": [
    {
     "name": "stdout",
     "output_type": "stream",
     "text": [
      "Index(['tobs', 'x1', 'x2', 'a1', 'a2', 'G_t', 'U_I', 'CHO', 'nobs', 'nobavar',\n",
      "       'MCR_I', 'W', 'V_G'],\n",
      "      dtype='object')\n"
     ]
    }
   ],
   "source": [
    "print(X)"
   ]
  },
  {
   "cell_type": "code",
   "execution_count": 10,
   "metadata": {},
   "outputs": [
    {
     "name": "stdout",
     "output_type": "stream",
     "text": [
      "RangeIndex(start=0, stop=289, step=1)\n"
     ]
    }
   ],
   "source": [
    "print(Y)"
   ]
  },
  {
   "cell_type": "code",
   "execution_count": 11,
   "metadata": {},
   "outputs": [],
   "source": [
    "data2 = np.array(data1)"
   ]
  },
  {
   "cell_type": "code",
   "execution_count": 12,
   "metadata": {},
   "outputs": [],
   "source": [
    "tobs = data2[:,1];"
   ]
  },
  {
   "cell_type": "code",
   "execution_count": 13,
   "metadata": {},
   "outputs": [],
   "source": [
    "x1 = data2[:,2];"
   ]
  },
  {
   "cell_type": "code",
   "execution_count": 14,
   "metadata": {},
   "outputs": [],
   "source": [
    "x2 = data2[:,3];"
   ]
  },
  {
   "cell_type": "code",
   "execution_count": 15,
   "metadata": {},
   "outputs": [],
   "source": [
    "a1 = data2[:,4];"
   ]
  },
  {
   "cell_type": "code",
   "execution_count": 16,
   "metadata": {},
   "outputs": [],
   "source": [
    "a2 = data2[:,5];"
   ]
  },
  {
   "cell_type": "code",
   "execution_count": 17,
   "metadata": {},
   "outputs": [],
   "source": [
    "G_t = data2[:,6];"
   ]
  },
  {
   "cell_type": "code",
   "execution_count": 18,
   "metadata": {},
   "outputs": [],
   "source": [
    "U_I = data2[:,7];"
   ]
  },
  {
   "cell_type": "code",
   "execution_count": 19,
   "metadata": {},
   "outputs": [],
   "source": [
    "CHO = data2[:,8];"
   ]
  },
  {
   "cell_type": "code",
   "execution_count": 20,
   "metadata": {},
   "outputs": [],
   "source": [
    "nobs = 289;"
   ]
  },
  {
   "cell_type": "code",
   "execution_count": 21,
   "metadata": {},
   "outputs": [],
   "source": [
    "nobsvar = 5;"
   ]
  },
  {
   "cell_type": "code",
   "execution_count": 22,
   "metadata": {},
   "outputs": [],
   "source": [
    "MCR_I = 0.017;"
   ]
  },
  {
   "cell_type": "code",
   "execution_count": 23,
   "metadata": {},
   "outputs": [],
   "source": [
    "W = 120;"
   ]
  },
  {
   "cell_type": "code",
   "execution_count": 24,
   "metadata": {},
   "outputs": [],
   "source": [
    "V_G = 0.16;"
   ]
  },
  {
   "cell_type": "code",
   "execution_count": 25,
   "metadata": {},
   "outputs": [],
   "source": [
    "obs = [x1, x2, a1, a2, G_t];"
   ]
  },
  {
   "cell_type": "code",
   "execution_count": 26,
   "metadata": {},
   "outputs": [],
   "source": [
    "\n",
    "\n",
    "# convert from Python's 0-based indexing to Stan's 1-based\n",
    "data   = {'nobs':len(tobs),  'tobs':tobs,  'nobsvar':len(iobsvar), 'iobsvar':iobsvar+1, 'obs':obs,  'tpred':tpred, 'npred':npred}\n",
    "\n"
   ]
  },
  {
   "cell_type": "code",
   "execution_count": 27,
   "metadata": {
    "scrolled": true
   },
   "outputs": [
    {
     "ename": "ValueError",
     "evalue": "Failed to parse Stan model 'NPZF'. Error message:\nSYNTAX ERROR, MESSAGE(S) FROM PARSER:\nVariable \"sample\" does not exist.\n error in 'unknown file name' at line 94, column 36\n  -------------------------------------------------\n    92:     { \n    93:         real theta[7] = {t_Max_IA, t_Max_G, A_G, S_I, X_b, K, G_b};\n    94:         vector[5] x = ode_bdf(sample, x0, 0, tobs, theta, rep_array(0.0, 0), rep_array(0, 0), 1e-6, 1e-5, 1e3);\n                                           ^\n    95:     }\n  -------------------------------------------------\n\n",
     "output_type": "error",
     "traceback": [
      "\u001b[1;31m---------------------------------------------------------------------------\u001b[0m",
      "\u001b[1;31mValueError\u001b[0m                                Traceback (most recent call last)",
      "\u001b[1;32m<ipython-input-27-24826867627d>\u001b[0m in \u001b[0;36m<module>\u001b[1;34m\u001b[0m\n\u001b[1;32m----> 1\u001b[1;33m \u001b[0mmodel\u001b[0m \u001b[1;33m=\u001b[0m \u001b[0mpystan\u001b[0m\u001b[1;33m.\u001b[0m\u001b[0mStanModel\u001b[0m\u001b[1;33m(\u001b[0m\u001b[0mmodel_code\u001b[0m\u001b[1;33m=\u001b[0m\u001b[0mstan_code_pred\u001b[0m\u001b[1;33m,\u001b[0m \u001b[0mmodel_name\u001b[0m\u001b[1;33m=\u001b[0m\u001b[1;34m'NPZF'\u001b[0m\u001b[1;33m,\u001b[0m \u001b[0mobfuscate_model_name\u001b[0m\u001b[1;33m=\u001b[0m\u001b[1;32mFalse\u001b[0m\u001b[1;33m)\u001b[0m\u001b[1;33m\u001b[0m\u001b[1;33m\u001b[0m\u001b[0m\n\u001b[0m\u001b[0;32m      2\u001b[0m \u001b[1;33m\u001b[0m\u001b[0m\n",
      "\u001b[1;32m~\\anaconda3\\lib\\site-packages\\pystan\\model.py\u001b[0m in \u001b[0;36m__init__\u001b[1;34m(self, file, charset, model_name, model_code, stanc_ret, include_paths, boost_lib, eigen_lib, verbose, obfuscate_model_name, extra_compile_args, allow_undefined, include_dirs, includes)\u001b[0m\n\u001b[0;32m    228\u001b[0m \u001b[1;33m\u001b[0m\u001b[0m\n\u001b[0;32m    229\u001b[0m         \u001b[1;32mif\u001b[0m \u001b[0mstanc_ret\u001b[0m \u001b[1;32mis\u001b[0m \u001b[1;32mNone\u001b[0m\u001b[1;33m:\u001b[0m\u001b[1;33m\u001b[0m\u001b[1;33m\u001b[0m\u001b[0m\n\u001b[1;32m--> 230\u001b[1;33m             stanc_ret = pystan.api.stanc(file=file,\n\u001b[0m\u001b[0;32m    231\u001b[0m                                          \u001b[0mcharset\u001b[0m\u001b[1;33m=\u001b[0m\u001b[0mcharset\u001b[0m\u001b[1;33m,\u001b[0m\u001b[1;33m\u001b[0m\u001b[1;33m\u001b[0m\u001b[0m\n\u001b[0;32m    232\u001b[0m                                          \u001b[0mmodel_code\u001b[0m\u001b[1;33m=\u001b[0m\u001b[0mmodel_code\u001b[0m\u001b[1;33m,\u001b[0m\u001b[1;33m\u001b[0m\u001b[1;33m\u001b[0m\u001b[0m\n",
      "\u001b[1;32m~\\anaconda3\\lib\\site-packages\\pystan\\api.py\u001b[0m in \u001b[0;36mstanc\u001b[1;34m(file, charset, model_code, model_name, include_paths, verbose, obfuscate_model_name, allow_undefined)\u001b[0m\n\u001b[0;32m    167\u001b[0m             \u001b[0mmsg\u001b[0m \u001b[1;33m=\u001b[0m \u001b[0mmsg\u001b[0m\u001b[1;33m.\u001b[0m\u001b[0mencode\u001b[0m\u001b[1;33m(\u001b[0m\u001b[1;34m'ascii'\u001b[0m\u001b[1;33m,\u001b[0m \u001b[1;34m'replace'\u001b[0m\u001b[1;33m)\u001b[0m\u001b[1;33m\u001b[0m\u001b[1;33m\u001b[0m\u001b[0m\n\u001b[0;32m    168\u001b[0m         \u001b[0merror_msg\u001b[0m \u001b[1;33m=\u001b[0m \u001b[1;34m\"Failed to parse Stan model '{}'. Error message:\\n{}\"\u001b[0m\u001b[1;33m.\u001b[0m\u001b[0mformat\u001b[0m\u001b[1;33m(\u001b[0m\u001b[0mmodel_name\u001b[0m\u001b[1;33m,\u001b[0m \u001b[0mmsg\u001b[0m\u001b[1;33m)\u001b[0m\u001b[1;33m\u001b[0m\u001b[1;33m\u001b[0m\u001b[0m\n\u001b[1;32m--> 169\u001b[1;33m         \u001b[1;32mraise\u001b[0m \u001b[0mValueError\u001b[0m\u001b[1;33m(\u001b[0m\u001b[0merror_msg\u001b[0m\u001b[1;33m)\u001b[0m\u001b[1;33m\u001b[0m\u001b[1;33m\u001b[0m\u001b[0m\n\u001b[0m\u001b[0;32m    170\u001b[0m     \u001b[1;32melif\u001b[0m \u001b[0mresult\u001b[0m\u001b[1;33m[\u001b[0m\u001b[1;34m'status'\u001b[0m\u001b[1;33m]\u001b[0m \u001b[1;33m==\u001b[0m \u001b[1;36m0\u001b[0m\u001b[1;33m:\u001b[0m  \u001b[1;31m# SUCCESS_RC is 0\u001b[0m\u001b[1;33m\u001b[0m\u001b[1;33m\u001b[0m\u001b[0m\n\u001b[0;32m    171\u001b[0m         \u001b[0mlogger\u001b[0m\u001b[1;33m.\u001b[0m\u001b[0mdebug\u001b[0m\u001b[1;33m(\u001b[0m\u001b[1;34m\"Successfully parsed Stan model '{}'.\"\u001b[0m\u001b[1;33m.\u001b[0m\u001b[0mformat\u001b[0m\u001b[1;33m(\u001b[0m\u001b[0mmodel_name\u001b[0m\u001b[1;33m)\u001b[0m\u001b[1;33m)\u001b[0m\u001b[1;33m\u001b[0m\u001b[1;33m\u001b[0m\u001b[0m\n",
      "\u001b[1;31mValueError\u001b[0m: Failed to parse Stan model 'NPZF'. Error message:\nSYNTAX ERROR, MESSAGE(S) FROM PARSER:\nVariable \"sample\" does not exist.\n error in 'unknown file name' at line 94, column 36\n  -------------------------------------------------\n    92:     { \n    93:         real theta[7] = {t_Max_IA, t_Max_G, A_G, S_I, X_b, K, G_b};\n    94:         vector[5] x = ode_bdf(sample, x0, 0, tobs, theta, rep_array(0.0, 0), rep_array(0, 0), 1e-6, 1e-5, 1e3);\n                                           ^\n    95:     }\n  -------------------------------------------------\n\n"
     ]
    }
   ],
   "source": [
    "\n",
    "\n",
    "model = pystan.StanModel(model_code=stan_code_pred, model_name='NPZF', obfuscate_model_name=False)\n",
    "\n"
   ]
  },
  {
   "cell_type": "code",
   "execution_count": null,
   "metadata": {},
   "outputs": [],
   "source": []
  },
  {
   "cell_type": "code",
   "execution_count": null,
   "metadata": {},
   "outputs": [],
   "source": []
  },
  {
   "cell_type": "code",
   "execution_count": null,
   "metadata": {},
   "outputs": [],
   "source": []
  }
 ],
 "metadata": {
  "kernelspec": {
   "display_name": "Python 3",
   "language": "python",
   "name": "python3"
  },
  "language_info": {
   "codemirror_mode": {
    "name": "ipython",
    "version": 3
   },
   "file_extension": ".py",
   "mimetype": "text/x-python",
   "name": "python",
   "nbconvert_exporter": "python",
   "pygments_lexer": "ipython3",
   "version": "3.8.5"
  }
 },
 "nbformat": 4,
 "nbformat_minor": 4
}
